{
 "cells": [
  {
   "cell_type": "markdown",
   "metadata": {},
   "source": [
    "# Data "
   ]
  },
  {
   "cell_type": "markdown",
   "metadata": {},
   "source": [
    "https://www.superdatascience.com/machine-learning/ \n",
    "\n",
    "wget http://www.superdatascience.com/wp-content/uploads/2017/02/Data_Preprocessing.zip\n"
   ]
  },
  {
   "cell_type": "markdown",
   "metadata": {},
   "source": [
    "# Data preprocessing\n",
    "\n",
    "\n"
   ]
  },
  {
   "cell_type": "markdown",
   "metadata": {},
   "source": [
    "## Download data\n",
    "\n",
    "```\n",
    "wget http://www.superdatascience.com/wp-content/uploads/2017/02/Data_Preprocessing.zip\n",
    "unzip Data_Preprocessing.zip\n",
    "```"
   ]
  },
  {
   "cell_type": "markdown",
   "metadata": {},
   "source": [
    "### Import the libraries"
   ]
  },
  {
   "cell_type": "code",
   "execution_count": 2,
   "metadata": {},
   "outputs": [],
   "source": [
    "import numpy as np\n",
    "import matplotlib.pyplot as plt\n",
    "import pandas as pd\n"
   ]
  },
  {
   "cell_type": "markdown",
   "metadata": {},
   "source": [
    "### Import the dataset"
   ]
  },
  {
   "cell_type": "code",
   "execution_count": 4,
   "metadata": {},
   "outputs": [
    {
     "name": "stdout",
     "output_type": "stream",
     "text": [
      "/home/xie186\n"
     ]
    }
   ],
   "source": [
    "%%bash\n",
    "pwd"
   ]
  },
  {
   "cell_type": "code",
   "execution_count": 10,
   "metadata": {},
   "outputs": [],
   "source": [
    "## import the data\n",
    "import os\n",
    "os.chdir(\"/scratch/snyder/x/xie186/machine_learningAZ/\")\n",
    "dataset = pd.read_csv(\"data/Data_Preprocessing/Data.csv\")\n",
    "dataset.head()\n"
   ]
  },
  {
   "cell_type": "code",
   "execution_count": 12,
   "metadata": {},
   "outputs": [
    {
     "data": {
      "text/plain": [
       "array(['No', 'Yes', 'No', 'No', 'Yes', 'Yes', 'No', 'Yes', 'No', 'Yes'], dtype=object)"
      ]
     },
     "execution_count": 12,
     "metadata": {},
     "output_type": "execute_result"
    }
   ],
   "source": [
    "X = dataset.iloc[:, :-1].values\n",
    "y = dataset.iloc[:, 3].values\n",
    "y"
   ]
  },
  {
   "cell_type": "markdown",
   "metadata": {},
   "source": [
    "# Summary of smRNAseq library construction"
   ]
  },
  {
   "cell_type": "markdown",
   "metadata": {},
   "source": [
    "PPT: https://docs.google.com/presentation/d/1uFutzCmuD_cu0h8OeI9O49h3wdnjmxTQrlbgzGjseJU/edit?usp=sharing"
   ]
  },
  {
   "cell_type": "markdown",
   "metadata": {},
   "source": [
    "# Analysis"
   ]
  },
  {
   "cell_type": "markdown",
   "metadata": {},
   "source": [
    "## Adapter removal of the reads\n",
    "Different kits has different library construction strategies. "
   ]
  },
  {
   "cell_type": "markdown",
   "metadata": {},
   "source": [
    "* First, trim galore with auto detection was used to remove the adapters. \n",
    "\n",
    "Path: /depot/bioinfo/data/Projects/ABRF_2018/results/QC_chk_TG_auto\n",
    "\n",
    "* Second, trim galore with customized adapter sequences were used to remove the adapter sequcences. "
   ]
  },
  {
   "cell_type": "markdown",
   "metadata": {},
   "source": [
    "Path: /depot/bioinfo/data/Projects/ABRF_2018/results/custom_adaptor_rm/step1_custom_adapter_trim.sh\n",
    "\n",
    "Result path:  /depot/bioinfo/data/Projects/ABRF_2018/results/custom_adaptor_rm/custom_trim_smRNA_adapter"
   ]
  },
  {
   "cell_type": "markdown",
   "metadata": {},
   "source": [
    "## Read lenght distribution after Trim Galore\n",
    "\n",
    "__Job file: __\n",
    "\n",
    "/depot/bioinfo/data/Projects/ABRF_2018/results/aln_smRNA/miRNA_tab_fig_20180405/read_len_dist/step1_get_read_num_base_perc.qsub\n",
    "\n",
    "__Table files:__\n",
    "\n",
    "miRNA_read_stats_98samples_base_perc.MUR_MUR_D_HBR.xlsx\n"
   ]
  },
  {
   "cell_type": "markdown",
   "metadata": {},
   "source": [
    "## Align the reads to reference genome to generate the collapsed fasta files"
   ]
  },
  {
   "cell_type": "markdown",
   "metadata": {},
   "source": [
    "Path: /depot/bioinf/Projects/ABRF_2018/results/aln_smRNA/step1_aln2ref_adapter.sh\n",
    "\n",
    "Path for result files: /depot/bioinfo/data/Projects/ABRF_2018/results/aln_smRNA/aln2ref/*/*collapsed.fa\n",
    "\n",
    "> I checked the collapsed files. The number of reads is the same as the input. \n",
    "    "
   ]
  },
  {
   "cell_type": "markdown",
   "metadata": {},
   "source": [
    "## Align the collapsed reads to the corresponding reference sequences\n",
    "\n",
    "### Reference sequences\n",
    "\n",
    "* HBR samples\n",
    "\n",
    "1. miRNA steploop\n",
    "\n",
    "/depot/bioinf/Projects/ABRF_2018/data/ref/hsa_stemloop_miRNA_ns.fa\n",
    "\n",
    "2. mature miRNA seuqnces. \n",
    "\n",
    "/depot/bioinf/Projects/ABRF_2018/data/ref/hsa_mature_miRNA_ns.fa\n",
    "\n",
    "* MUR and MUR_D samples\n",
    "\n",
    "1. /depot/bioinf/Projects/ABRF_2018/data/ref/mirxplore_steploop_miRNA.fa\n",
    "\n",
    "740 sequences. \n",
    "\n",
    "2. /depot/bioinf/Projects/ABRF_2018/data/ref/mirxplore_mature_miRNA.fa\n"
   ]
  },
  {
   "cell_type": "markdown",
   "metadata": {
    "collapsed": true
   },
   "source": [
    "__Path:__ /depot/bioinfo/data/Projects/ABRF_2018/results/aln_smRNA/step2_align2miRNA.sh\n",
    "\n",
    "__Path for the results:__ /depot/bioinfo/data/Projects/ABRF_2018/results/aln_smRNA/aln2stemloop_miRNA"
   ]
  },
  {
   "cell_type": "code",
   "execution_count": null,
   "metadata": {
    "collapsed": true
   },
   "outputs": [],
   "source": [
    "### miRNA CPM\n",
    "\n",
    "`qunatifier.pl` was used in this step. "
   ]
  },
  {
   "cell_type": "markdown",
   "metadata": {},
   "source": [
    "#### Extract the CPM values\n"
   ]
  },
  {
   "cell_type": "markdown",
   "metadata": {},
   "source": [
    "#### Genrate heatmap based on the CPM values\n"
   ]
  },
  {
   "cell_type": "markdown",
   "metadata": {},
   "source": [
    "####     Generate tables for Stuart\n",
    "\n",
    "\n",
    "__Path:__ \n",
    "\n",
    "    /depot/bioinf/Projects/ABRF_2018/results/aln_smRNA/miRNA_tab_fig_20180405/heatmap_custom_color\n",
    "    \n",
    "    \n"
   ]
  },
  {
   "cell_type": "code",
   "execution_count": 45,
   "metadata": {},
   "outputs": [
    {
     "name": "stdout",
     "output_type": "stream",
     "text": [
      "miRNA_expr_mat_stemloop_98samplse.CPM.xlsx\n"
     ]
    }
   ],
   "source": [
    "%%bash\n",
    "cd /depot/bioinf/Projects/ABRF_2018/results/aln_smRNA/miRNA_tab_fig_20180405/heatmap_custom_color\n",
    "ls miRNA_expr_mat_stemloop_98samplse.CPM.xlsx"
   ]
  },
  {
   "cell_type": "markdown",
   "metadata": {},
   "source": [
    "#### CPM matrix for Nanostring data\n",
    "\n",
    "__Shell scripts:__ \n",
    "\n",
    "/depot/bioinfo/data/Projects/ABRF_2018/results/nanostring_data/step2_gener_heatmap.sh"
   ]
  },
  {
   "cell_type": "code",
   "execution_count": 46,
   "metadata": {},
   "outputs": [
    {
     "name": "stdout",
     "output_type": "stream",
     "text": [
      "miRNA_expr_mat_nanostring.CPM.xlsx\n",
      "nanostring_norm.HBR.tab.transpose\n",
      "nanostring_norm.MURD.tab.transpose\n",
      "nanostring_norm.MUR.tab.transpose\n"
     ]
    }
   ],
   "source": [
    "%%bash\n",
    "cd /depot/bioinf/Projects/ABRF_2018/results/nanostring_data\n",
    "ls *transpose miRNA_expr_mat_nanostring.CPM.xlsx  ## This is for Stuart\n"
   ]
  },
  {
   "cell_type": "markdown",
   "metadata": {},
   "source": [
    "####  miRNA detected"
   ]
  },
  {
   "cell_type": "markdown",
   "metadata": {},
   "source": [
    "__path:__ /depot/bioinf/Projects/ABRF_2018/results/aln_smRNA/miRNA_tab_fig_20180405/miRNA_detect_num\n",
    "\n",
    "##### Generate tables\n",
    "\n",
    "__Shell script:__ step1_miRNA_detect_num.sh\n"
   ]
  },
  {
   "cell_type": "code",
   "execution_count": 22,
   "metadata": {
    "scrolled": true
   },
   "outputs": [
    {
     "name": "stdout",
     "output_type": "stream",
     "text": [
      "miRNA_detected_num_CPM1000_HBR.tab\n",
      "miRNA_detected_num_CPM1000_MUR_D.tab\n",
      "miRNA_detected_num_CPM1000_MUR.tab\n",
      "miRNA_detected_num_CPM1000.Nano.MUR_D.tab\n",
      "miRNA_detected_num_CPM100_HBR.tab\n",
      "miRNA_detected_num_CPM100_MUR_D.tab\n",
      "miRNA_detected_num_CPM100_MUR.tab\n",
      "miRNA_detected_num_CPM100.Nano.MUR_D.tab\n"
     ]
    }
   ],
   "source": [
    "%%bash\n",
    "cd /depot/bioinf/Projects/ABRF_2018/results/aln_smRNA/miRNA_tab_fig_20180405/miRNA_detect_num\n",
    "ls miRNA_detected_num_CPM*_*.tab"
   ]
  },
  {
   "cell_type": "markdown",
   "metadata": {},
   "source": [
    "#####  Prepare files for Stuart\n",
    "\n",
    "__Shell scripts:__ step1_miRNA_detect_num_plot_nano.sh"
   ]
  },
  {
   "cell_type": "code",
   "execution_count": 41,
   "metadata": {},
   "outputs": [
    {
     "name": "stdout",
     "output_type": "stream",
     "text": [
      "miRNA_detected_num_CPM1000.Nano.HBR.tab\n",
      "miRNA_detected_num_CPM1000.Nano.MUR_D.tab\n",
      "miRNA_detected_num_CPM1000.Nano.MUR.tab\n",
      "miRNA_detected_num_CPM100.Nano.HBR.tab\n",
      "miRNA_detected_num_CPM100.Nano.MUR_D.tab\n",
      "miRNA_detected_num_CPM100.Nano.MUR.tab\n",
      "miRNA_detected_num_CPM100.Nano.tab\n",
      "\n",
      "Generate excel files: step2_gener_miRNA_num_xlsx4stuart.sh\n",
      "\n",
      "miRNA_detected_num_CPM1000.Nano.xlsx\n",
      "miRNA_detected_num_CPM100.Nano.xlsx\n"
     ]
    }
   ],
   "source": [
    "%%bash\n",
    "cd /depot/bioinf/Projects/ABRF_2018/results/aln_smRNA/miRNA_tab_fig_20180405/miRNA_detect_num\n",
    "ls miRNA_detected_num_CPM100*.Nano.*tab\n",
    "\n",
    "printf \"\\nGenerate excel files: step2_gener_miRNA_num_xlsx4stuart.sh\\n\\n\"\n",
    "ls miRNA_detected_num_CPM100.Nano.xlsx \\\n",
    "miRNA_detected_num_CPM1000.Nano.xlsx"
   ]
  },
  {
   "cell_type": "markdown",
   "metadata": {},
   "source": [
    "### miRNA bias "
   ]
  },
  {
   "cell_type": "markdown",
   "metadata": {},
   "source": [
    "#### MUR  and MUR_D\n",
    "\n",
    "##### Generate the tables\n",
    "\n",
    "__path:__  /depot/bioinf/Projects/ABRF_2018/results/aln_smRNA/miRNA_tab_fig_20180405/CPM_median_perc\n",
    "\n",
    "sh step1_extract_perc_5cate.sh\n",
    "\n",
    "__result files:__ stat_perc_miRNAian_med_5cate_MUR_D.tab  stat_perc_miRNAian_med_5cate_MUR.tab\n",
    "\n",
    "##### Generate the figure based on the table\n",
    "\n",
    "__Shell script:__ step1_gener_barplot_nano.sh"
   ]
  },
  {
   "cell_type": "markdown",
   "metadata": {},
   "source": [
    "#####  Files for Stuart \n",
    "Shell script: step2_gener_tab4sturt.sh\n",
    "\n",
    "__Results files:__ stat_perc_miRNAian_med_5cate_withNano.MUR_D.tab  stat_perc_miRNAian_med_5cate_withNano.MUR.tab\n",
    "\n",
    "__Excel file:__ stat_perc_miRNA_median_5cate_withNano.MUR.MUR_D_HBR.xlsx\n"
   ]
  },
  {
   "cell_type": "markdown",
   "metadata": {},
   "source": [
    "##### Generate the percentage of jackpot reads \n",
    "\n",
    "__Shell scripts:__\n",
    "\n",
    "/depot/bioinfo/data/Projects/ABRF_2018/results/aln_smRNA/miRNA_tab_fig_20180405/CPM_median_perc/step5_perc_jackpot.sh\n"
   ]
  },
  {
   "cell_type": "code",
   "execution_count": 27,
   "metadata": {},
   "outputs": [
    {
     "name": "stdout",
     "output_type": "stream",
     "text": [
      "stat_perc_miRNA_median_jackpot.MUR_D.tab\n",
      "stat_perc_miRNA_median_jackpot.MUR.tab\n"
     ]
    }
   ],
   "source": [
    "%%bash\n",
    "cd /depot/bioinfo/data/Projects/ABRF_2018/results/aln_smRNA/miRNA_tab_fig_20180405/CPM_median_perc/\n",
    "ls stat_perc_miRNA_median_jackpot.MUR_D.tab stat_perc_miRNA_median_jackpot.MUR.tab"
   ]
  },
  {
   "cell_type": "markdown",
   "metadata": {},
   "source": [
    "##### Generate the percentage of jackpot reads (Nanostring data)\n",
    "\n",
    "__Path:__ /depot/bioinf/Projects/ABRF_2018/results/nanostring_data\n",
    "\n",
    "__Shell script__: step1_gener_tab_miRNA_detect_5cats.sh"
   ]
  },
  {
   "cell_type": "code",
   "execution_count": 31,
   "metadata": {},
   "outputs": [
    {
     "name": "stdout",
     "output_type": "stream",
     "text": [
      "nanostring_fc5cate.HBR.tab\n",
      "nanostring_fc5cate_jackpot.HBR.tab\n",
      "nanostring_norm_detect.cut100.HBR.tab\n",
      "nanostring_norm.HBR.tab\n"
     ]
    }
   ],
   "source": [
    "%%bash\n",
    "# In the shell scripts, four output files will be generated. \n",
    "# 1) Table for 5 categories;\n",
    "# 2) Table for percentage of jackpot reads\n",
    "# 3) Number of miRNA detected under cutoff CPM > 100\n",
    "# 4) Matrix with normalized values \n",
    "\n",
    "cd /depot/bioinf/Projects/ABRF_2018/results/nanostring_data\n",
    "ls nanostring_fc5cate.HBR.tab nanostring_norm.HBR.tab nanostring_norm_detect.cut100.HBR.tab nanostring_fc5cate_jackpot.HBR.tab"
   ]
  },
  {
   "cell_type": "markdown",
   "metadata": {},
   "source": [
    "##### Generate the percentage of jackpot reads with Nanostring data\n",
    "\n",
    "__Shell scripts__: \n",
    "\n",
    "/depot/bioinfo/data/Projects/ABRF_2018/results/aln_smRNA/miRNA_tab_fig_20180405/CPM_median_perc/step5_perc_jackpot.sh"
   ]
  },
  {
   "cell_type": "code",
   "execution_count": 34,
   "metadata": {},
   "outputs": [
    {
     "name": "stdout",
     "output_type": "stream",
     "text": [
      "stat_perc_miRNAian_med_5cate_withNano.MUR.MUR_D.xlsx\n",
      "stat_perc_miRNA_median_jackpot.MUR_D.tab\n",
      "stat_perc_miRNA_median_jackpot.MUR.tab\n"
     ]
    }
   ],
   "source": [
    "%%bash\n",
    "cd /depot/bioinfo/data/Projects/ABRF_2018/results/aln_smRNA/miRNA_tab_fig_20180405/CPM_median_perc\n",
    "ls stat_perc_miRNA_median_jackpot.MUR.tab \\\n",
    "   stat_perc_miRNA_median_jackpot.MUR_D.tab \\\n",
    "   stat_perc_miRNA_median_5cate_withNano.MUR.MUR_D_HBR.xlsx  ## File for Stuart"
   ]
  },
  {
   "cell_type": "markdown",
   "metadata": {},
   "source": [
    "## Check reads class based on ncRNA\n",
    "\n",
    "### Remove polyAGN\n",
    "\n",
    "Here are the sequences i used to remove the reads:\n",
    "\n",
    "* AAAAACAAAA\n",
    "\n",
    "* AAAAAAAAA\n",
    "\n",
    "* GGGGGGGGGG\n",
    "\n",
    "* NNNN\n",
    "\n",
    "For details, please check the script below:\n",
    "\n",
    "/depot/bioinfo/data/Projects/ABRF_2018/scripts/custom_adapter_DIA_remove_polyAGN.pl\n",
    "\n",
    "__Shell scripts:__\n",
    "\n",
    "- step1_remove_polyAGN.sh\n",
    "\n",
    "1) Remove the polyAGN reads;\n",
    "\n",
    "2) Align reads to reference genome to get the collapsed files;\n",
    "\n",
    "3) Separate the fasta files into 3 files based on the read length\n",
    "\n",
    "\n",
    "\n",
    "- step2_stat_read_num.sh\n",
    "\n",
    "\n"
   ]
  },
  {
   "cell_type": "markdown",
   "metadata": {},
   "source": [
    "### Align reads to the reference genome to get the collapsed file\n",
    "\n",
    "__Shell scripts: __\n",
    "\n"
   ]
  },
  {
   "cell_type": "markdown",
   "metadata": {},
   "source": [
    "### Align the reads to miRNA, piRNA and other ncRNA\n",
    "\n",
    "\n"
   ]
  },
  {
   "cell_type": "markdown",
   "metadata": {},
   "source": [
    "# test\n",
    "## Test DIA and SOM samples\n",
    "\n",
    "* working direcotry: "
   ]
  },
  {
   "cell_type": "code",
   "execution_count": 1,
   "metadata": {},
   "outputs": [
    {
     "name": "stdout",
     "output_type": "stream",
     "text": [
      "/depot/bioinfo/data/Projects/ABRF_2018/results/test/test_miRNA_read_content\n"
     ]
    }
   ],
   "source": [
    "cd /depot/bioinf/Projects/ABRF_2018/results/test/test_miRNA_read_content"
   ]
  },
  {
   "cell_type": "code",
   "execution_count": 2,
   "metadata": {},
   "outputs": [
    {
     "data": {
      "text/plain": [
       "'/depot/bioinfo/data/Projects/ABRF_2018/results/test/test_miRNA_read_content'"
      ]
     },
     "execution_count": 2,
     "metadata": {},
     "output_type": "execute_result"
    }
   ],
   "source": [
    "pwd"
   ]
  },
  {
   "cell_type": "code",
   "execution_count": null,
   "metadata": {
    "collapsed": true
   },
   "outputs": [],
   "source": [
    "## Summarize the results for DIA samples"
   ]
  },
  {
   "cell_type": "code",
   "execution_count": null,
   "metadata": {
    "collapsed": true
   },
   "outputs": [],
   "source": [
    "### Adaptor removal step-by-step or trim galores"
   ]
  },
  {
   "cell_type": "markdown",
   "metadata": {},
   "source": [
    "## piRNA\n",
    "\n",
    "README: /depot/bioinfo/data/Projects/ABRF_2018/data/ncRNA_db/piR_human_v1.0.fa.README\n",
    "\n",
    "* http://www.regulatoryrna.org/database/piRNA/download.html\n",
    "* http://www.regulatoryrna.org/database/piRNA/download/archive/v1.0/fasta/piR_human_v1.0.fa.gz\n",
    "\n"
   ]
  },
  {
   "cell_type": "code",
   "execution_count": null,
   "metadata": {
    "collapsed": true
   },
   "outputs": [],
   "source": []
  },
  {
   "cell_type": "markdown",
   "metadata": {},
   "source": [
    "## miRNA detected \n"
   ]
  },
  {
   "cell_type": "code",
   "execution_count": 26,
   "metadata": {},
   "outputs": [
    {
     "name": "stdout",
     "output_type": "stream",
     "text": [
      "933\n",
      "924\n",
      "927\n"
     ]
    }
   ],
   "source": [
    "%%bash\n",
    "cd /depot/bioinf/Projects/ABRF_2018/results/test/test_miRNA_read_content\n",
    "awk '$6>5' aln2steploop_miRNA_DIA_old_mirdeep/miRNAs_expressed_all_samples_DIA_MUR_CORN_2_S17_R1.csv |wc -l\n",
    "awk '$6>5' aln2steploop_miRNA_DIA_old_mirdeep/miRNAs_expressed_all_samples_DIA_MUR_IU_2_S22_R1.csv |wc -l\n",
    "awk '$6>5' aln2steploop_miRNA_DIA_old_mirdeep/miRNAs_expressed_all_samples_DIA_MUR_UFL_1_S24_R1.csv |wc -l"
   ]
  },
  {
   "cell_type": "markdown",
   "metadata": {
    "collapsed": true
   },
   "source": [
    "# Discussion with DSRG group\n",
    "\n",
    "* 10:00am 20180605 \n",
    "\n"
   ]
  }
 ],
 "metadata": {
  "kernelspec": {
   "display_name": "Python [default]",
   "language": "python",
   "name": "python3"
  },
  "language_info": {
   "codemirror_mode": {
    "name": "ipython",
    "version": 3
   },
   "file_extension": ".py",
   "mimetype": "text/x-python",
   "name": "python",
   "nbconvert_exporter": "python",
   "pygments_lexer": "ipython3",
   "version": "3.6.4"
  }
 },
 "nbformat": 4,
 "nbformat_minor": 2
}
