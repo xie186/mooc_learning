{
 "cells": [
  {
   "cell_type": "markdown",
   "id": "6c3c916d-6f10-4309-b0ed-4fa75f61b26a",
   "metadata": {},
   "source": [
    "# Inferential Statistical Analysis with Python\n",
    "\n",
    "https://www.coursera.org/learn/inferential-statistical-analysis-python/home/welcome\n",
    "\n"
   ]
  },
  {
   "cell_type": "markdown",
   "id": "842fe4c3-57fa-4e9c-af0b-768ab0a472f2",
   "metadata": {},
   "source": [
    "\n",
    "\n",
    "## Week 2\n",
    "\n",
    "\n",
    "### Conservative Approch & Sample Size Consideration\n",
    "\n",
    "95% Confidence intervals for $$p$$\n",
    "\n",
    "Estimated stardard error: \n",
    "\n",
    "$$\n",
    "\\hat{p} \\pm 1.96\\sqrt{\\frac{\\hat{p}(1-\\hat{p})}{n}}\n",
    "$$\n",
    "\n",
    "Estimated stardard error:\n",
    "\n",
    "$$\n",
    "\\sqrt{\\frac{\\hat{p}(1-\\hat{p})}{n}}\n",
    "$$\n",
    "\n",
    "which is maximized when $\\hat{p}$=0.5. \n",
    "\n",
    "**Conservative standard error** = $\\frac{1}{2\\sqrt{n}}$\n",
    "\n",
    "\n",
    "$\\hat{p} \\pm 2\\frac{1}{2\\sqrt{n}}$\n",
    "\n",
    "$\\hat{p} \\pm \\frac{1}{\\sqrt{n}}$\n",
    "\n",
    "95% margin of error is only dependent on sample size. \n",
    "\n",
    "Conservative 95% confidence interval.\n",
    "\n",
    "Margin of Error (MoE) is only dependent on:\n",
    "\n",
    "1) out confidence level (typically 95%)\n",
    "\n",
    "2) out sample size\n",
    "\n",
    "Sample size determination \n",
    "\n",
    "Summary: \n",
    "\n",
    "* Estimated stardard error may be too small, or inaccurate based off sample so can employ conservative approch. \n",
    "\n",
    "* Conservative approch -> determine sample size needed based on a conridence level and edsired margin of error. \n",
    "\n",
    "### Two propotions\n",
    "\n",
    "#### Estimating a Difference in Population Proportions with Confidence\n",
    "\n",
    "\n",
    "Parameter of interest - Difference in population proportions ($p1 - p2$). \n",
    "\n",
    "\n",
    "Survey Results\n",
    "\n",
    "Confidence interval basics\n",
    "\n",
    "$ Best estimate \\pm{Margin of Errors} $\n",
    "\n",
    "\n",
    "Interpretion of confidence interce. \n",
    "\n",
    "\"Range of reaonable values for our parameter\"\n",
    "\n",
    "> With 95% confidence, the population propotion of parents with white children whi have taken swimming lessons is 11.23 to 24.77% higher than the population proportion of parents with black children who have taken swimming lessons. \n",
    "\n",
    "\n",
    "#### Interpretations & Assumptions for Two Population Proportion Intervals\n",
    "\n",
    "Assumptions:\n",
    "\n",
    "1.Two independent random samples\n",
    "\n",
    "2. Large enough sample sizes to assume that the distribtuion of our estimate is normal. That is, we need ``\n",
    "\n",
    "\n",
    "\n",
    "\n",
    "\n"
   ]
  },
  {
   "cell_type": "markdown",
   "id": "dff3cf21-4c53-4d4c-bc55-d58efa1385fd",
   "metadata": {},
   "source": [
    "### One mean - Estimating a Population Mean with Confidence\n",
    "\n",
    "Cartwheel study \n",
    "\n",
    "What is the average cartwheel distance (in inches) for adults? \n",
    "\n",
    "Pupulation: All adults\n",
    "\n",
    "Parameter of interest: population mean cartwheel distance $\\mu$\n",
    "\n",
    "## Week 3"
   ]
  },
  {
   "cell_type": "code",
   "execution_count": 3,
   "id": "2d965d75-aef4-454d-ad15-b306fbb441aa",
   "metadata": {},
   "outputs": [
    {
     "name": "stderr",
     "output_type": "stream",
     "text": [
      "[NbConvertApp] Converting notebook README.ipynb to markdown\n",
      "[NbConvertApp] Writing 0 bytes to README.md\n"
     ]
    }
   ],
   "source": [
    "%%bash\n",
    "jupyter nbconvert --to markdown README.ipynb"
   ]
  },
  {
   "cell_type": "code",
   "execution_count": null,
   "id": "3f3bb8f0-57c2-426f-8de3-5008f06b3fde",
   "metadata": {},
   "outputs": [],
   "source": []
  }
 ],
 "metadata": {
  "kernelspec": {
   "display_name": "Python 3 (ipykernel)",
   "language": "python",
   "name": "python3"
  },
  "language_info": {
   "codemirror_mode": {
    "name": "ipython",
    "version": 3
   },
   "file_extension": ".py",
   "mimetype": "text/x-python",
   "name": "python",
   "nbconvert_exporter": "python",
   "pygments_lexer": "ipython3",
   "version": "3.10.8"
  }
 },
 "nbformat": 4,
 "nbformat_minor": 5
}
