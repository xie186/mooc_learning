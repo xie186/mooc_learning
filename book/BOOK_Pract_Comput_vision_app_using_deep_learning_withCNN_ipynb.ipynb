{
  "nbformat": 4,
  "nbformat_minor": 0,
  "metadata": {
    "colab": {
      "name": "BOOK_Pract_Comput_vision_app_using_deep_learning_withCNN.ipynb.ipynb",
      "version": "0.3.2",
      "provenance": [],
      "toc_visible": true
    },
    "kernelspec": {
      "name": "python3",
      "display_name": "Python 3"
    }
  },
  "cells": [
    {
      "cell_type": "code",
      "metadata": {
        "id": "yyVFYa52qvW_",
        "colab_type": "code",
        "colab": {}
      },
      "source": [
        ""
      ],
      "execution_count": 0,
      "outputs": []
    },
    {
      "cell_type": "markdown",
      "metadata": {
        "id": "AG8DSN3eq6gb",
        "colab_type": "text"
      },
      "source": [
        "## Color Histogram"
      ]
    },
    {
      "cell_type": "markdown",
      "metadata": {
        "id": "ddS5-F9btUWM",
        "colab_type": "text"
      },
      "source": [
        "### Histogram of simulated image"
      ]
    },
    {
      "cell_type": "code",
      "metadata": {
        "id": "1gpEMU8Zq5LD",
        "colab_type": "code",
        "outputId": "6246eb2d-2020-46fa-d3ad-a34955b59a55",
        "colab": {
          "base_uri": "https://localhost:8080/",
          "height": 543
        }
      },
      "source": [
        "import matplotlib.pyplot\n",
        "import numpy\n",
        "\n",
        "# accepts the size of the array to be returned in addition\n",
        "to the lower and higher bounds of the range from which image pixels\n",
        "rand_img = numpy.random.uniform(low=0, high=3, size=(5,5))\n",
        "# convert the values from floating-point to integer\n",
        "rand_img = numpy.uint8(rand_img)\n",
        "print(rand_img)\n",
        "\n",
        "# accepts the image and number of bins and returns the frequency of each level\n",
        "hist = numpy.histogram(rand_img, bins = 4)\n",
        "\n",
        "print(hist)\n",
        "#  a bar graph showing each level on the x axis and its frequency on the y axis.\n",
        "matplotlib.pyplot.bar(x=[0,1,2,3], height=hist[0], align=\"center\", width=0.3)\n",
        "matplotlib.pyplot.xticks([0,1,2,3], fontsize=20)\n",
        "matplotlib.pyplot.yticks(numpy.arange(0,15,2), fontsize=20)\n"
      ],
      "execution_count": 0,
      "outputs": [
        {
          "output_type": "stream",
          "text": [
            "[[0 2 2 1 1]\n",
            " [2 2 1 0 2]\n",
            " [1 2 0 0 0]\n",
            " [0 0 2 0 2]\n",
            " [1 0 0 0 2]]\n",
            "(array([11,  0,  5,  9]), array([0. , 0.5, 1. , 1.5, 2. ]))\n"
          ],
          "name": "stdout"
        },
        {
          "output_type": "execute_result",
          "data": {
            "text/plain": [
              "([<matplotlib.axis.YTick at 0x7f593389f0f0>,\n",
              "  <matplotlib.axis.YTick at 0x7f59338979e8>,\n",
              "  <matplotlib.axis.YTick at 0x7f59338939e8>,\n",
              "  <matplotlib.axis.YTick at 0x7f5933841940>,\n",
              "  <matplotlib.axis.YTick at 0x7f5933841e48>,\n",
              "  <matplotlib.axis.YTick at 0x7f5933849390>,\n",
              "  <matplotlib.axis.YTick at 0x7f5933849898>,\n",
              "  <matplotlib.axis.YTick at 0x7f5933841a20>],\n",
              " <a list of 8 Text yticklabel objects>)"
            ]
          },
          "metadata": {
            "tags": []
          },
          "execution_count": 13
        },
        {
          "output_type": "display_data",
          "data": {
            "image/png": "[encoded data removed]",
            "text/plain": [
              "<Figure size 432x288 with 1 Axes>"
            ]
          },
          "metadata": {
            "tags": []
          }
        }
      ]
    },
    {
      "cell_type": "markdown",
      "metadata": {
        "id": "NfQAkosDq59d",
        "colab_type": "text"
      },
      "source": [
        "### Histogram of a Real-World Image"
      ]
    },
    {
      "cell_type": "code",
      "metadata": {
        "id": "XTZ596PXtAnT",
        "colab_type": "code",
        "colab": {
          "base_uri": "https://localhost:8080/",
          "height": 341
        },
        "outputId": "eab9cba7-7110-4b52-f198-0d859258dc8c"
      },
      "source": [
        "import matplotlib.pyplot\n",
        "import numpy\n",
        "import skimage.io\n",
        "im = skimage.io.imread(\"https://user-images.githubusercontent.com/20909751/61545281-1ed7b900-aa15-11e9-976a-94a93202adfb.png\", as_grey=True)\n",
        "im = numpy.uint8(im*255)\n",
        "hist = numpy.histogram(im, bins=256)\n",
        "matplotlib.pyplot.bar(x=numpy.arange(256), height= hist[0],\n",
        "align=\"center\", width=0.1)"
      ],
      "execution_count": 16,
      "outputs": [
        {
          "output_type": "stream",
          "text": [
            "/usr/local/lib/python3.6/dist-packages/skimage/io/_io.py:48: UserWarning: `as_grey` has been deprecated in favor of `as_gray`\n",
            "  warn('`as_grey` has been deprecated in favor of `as_gray`')\n"
          ],
          "name": "stderr"
        },
        {
          "output_type": "execute_result",
          "data": {
            "text/plain": [
              "<BarContainer object of 256 artists>"
            ]
          },
          "metadata": {
            "tags": []
          },
          "execution_count": 16
        },
        {
          "output_type": "display_data",
          "data": {
            "image/png": "[encoded data removed]",
            "text/plain": [
              "<Figure size 432x288 with 1 Axes>"
            ]
          },
          "metadata": {
            "tags": []
          }
        }
      ]
    },
    {
      "cell_type": "markdown",
      "metadata": {
        "id": "xCbIPPf0q6AO",
        "colab_type": "text"
      },
      "source": [
        ""
      ]
    },
    {
      "cell_type": "code",
      "metadata": {
        "id": "41eswfkPq5Qc",
        "colab_type": "code",
        "colab": {}
      },
      "source": [
        ""
      ],
      "execution_count": 0,
      "outputs": []
    },
    {
      "cell_type": "code",
      "metadata": {
        "id": "3_h-3J4Uq5TP",
        "colab_type": "code",
        "colab": {}
      },
      "source": [
        ""
      ],
      "execution_count": 0,
      "outputs": []
    },
    {
      "cell_type": "code",
      "metadata": {
        "id": "57i7ZcuOq5WI",
        "colab_type": "code",
        "colab": {}
      },
      "source": [
        ""
      ],
      "execution_count": 0,
      "outputs": []
    },
    {
      "cell_type": "code",
      "metadata": {
        "id": "Qb-lk2U3q5Yl",
        "colab_type": "code",
        "colab": {}
      },
      "source": [
        ""
      ],
      "execution_count": 0,
      "outputs": []
    },
    {
      "cell_type": "markdown",
      "metadata": {
        "id": "AATop-VTq23g",
        "colab_type": "text"
      },
      "source": [
        ""
      ]
    }
  ]
}