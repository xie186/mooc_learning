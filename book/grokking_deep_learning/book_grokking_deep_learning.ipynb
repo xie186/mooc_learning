{
  "nbformat": 4,
  "nbformat_minor": 0,
  "metadata": {
    "colab": {
      "provenance": [],
      "authorship_tag": "ABX9TyOItadF0rWDfeaKGeglueuR",
      "include_colab_link": true
    },
    "kernelspec": {
      "name": "python3",
      "display_name": "Python 3"
    },
    "language_info": {
      "name": "python"
    }
  },
  "cells": [
    {
      "cell_type": "markdown",
      "metadata": {
        "id": "view-in-github",
        "colab_type": "text"
      },
      "source": [
        "<a href=\"https://colab.research.google.com/github/xie186/mooc_learning/blob/master/book/grokking_deep_learning/book_grokking_deep_learning.ipynb\" target=\"_parent\"><img src=\"https://colab.research.google.com/assets/colab-badge.svg\" alt=\"Open In Colab\"/></a>"
      ]
    },
    {
      "cell_type": "markdown",
      "source": [
        "# Book: Grokking Deep Learning by Andrew Trask"
      ],
      "metadata": {
        "id": "TmDc9cGyGuTp"
      }
    },
    {
      "cell_type": "markdown",
      "source": [
        "## Introduction to deep learning and why you should learn it"
      ],
      "metadata": {
        "id": "nVttz1U9HARL"
      }
    },
    {
      "cell_type": "markdown",
      "source": [
        "## Fundamental concepts: how do machines learn?"
      ],
      "metadata": {
        "id": "Q5Jn5PjdJGXo"
      }
    },
    {
      "cell_type": "markdown",
      "source": [
        "## Introduction to neural prediction"
      ],
      "metadata": {
        "id": "KBNYnbfJwBrs"
      }
    },
    {
      "cell_type": "code",
      "source": [
        "weight = 0.1\n",
        "def neural_network(input, weight):\n",
        "  prediction = input * weight\n",
        "  return prediction\n",
        "number_of_toes = [8.5, 9.5, 10, 9]\n",
        "input = number_of_toes[0]"
      ],
      "metadata": {
        "id": "C9xt_MetwC50"
      },
      "execution_count": 1,
      "outputs": []
    },
    {
      "cell_type": "code",
      "execution_count": 2,
      "metadata": {
        "id": "q69pgk1pF8CN",
        "colab": {
          "base_uri": "https://localhost:8080/"
        },
        "outputId": "5bd5502c-7d5e-43b5-b588-e62987ff0ebd"
      },
      "outputs": [
        {
          "output_type": "stream",
          "name": "stdout",
          "text": [
            "0.8500000000000001\n"
          ]
        }
      ],
      "source": [
        "pred = neural_network(input, weight)\n",
        "print(pred)"
      ]
    },
    {
      "cell_type": "markdown",
      "source": [
        "## Reference\n",
        "\n",
        "https:/bold text/edu.anarcho-copy.org/Algorithm/grokking-deep-learning.pdf\n",
        "\n"
      ],
      "metadata": {
        "id": "_UcnT3hLGlfC"
      }
    }
  ]
}