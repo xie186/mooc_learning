{
  "nbformat": 4,
  "nbformat_minor": 0,
  "metadata": {
    "colab": {
      "provenance": [],
      "authorship_tag": "ABX9TyOiFLqKT5v4tDR1BdMGVJTG",
      "include_colab_link": true
    },
    "kernelspec": {
      "name": "python3",
      "display_name": "Python 3"
    },
    "language_info": {
      "name": "python"
    }
  },
  "cells": [
    {
      "cell_type": "markdown",
      "metadata": {
        "id": "view-in-github",
        "colab_type": "text"
      },
      "source": [
        "<a href=\"https://colab.research.google.com/github/xie186/mooc_learning/blob/master/book/modeling_count_data/book_modeling_count_data.ipynb\" target=\"_parent\"><img src=\"https://colab.research.google.com/assets/colab-badge.svg\" alt=\"Open In Colab\"/></a>"
      ]
    },
    {
      "cell_type": "code",
      "execution_count": null,
      "metadata": {
        "id": "a7Kpy8NXVaNR"
      },
      "outputs": [],
      "source": []
    },
    {
      "cell_type": "markdown",
      "source": [
        "# Book: Modeling data data by JOSEPH M. HILBE\n",
        "\n",
        "\n"
      ],
      "metadata": {
        "id": "ZOEw_DeUVecZ"
      }
    },
    {
      "cell_type": "code",
      "source": [],
      "metadata": {
        "id": "HU3ZkVYWViFv"
      },
      "execution_count": null,
      "outputs": []
    }
  ]
}