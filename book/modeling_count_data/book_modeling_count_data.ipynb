{
  "nbformat": 4,
  "nbformat_minor": 0,
  "metadata": {
    "colab": {
      "provenance": [],
      "authorship_tag": "ABX9TyPD5jRiWp23sxPTkE0vKUmk",
      "include_colab_link": true
    },
    "kernelspec": {
      "name": "ir",
      "display_name": "R"
    },
    "language_info": {
      "name": "R"
    }
  },
  "cells": [
    {
      "cell_type": "markdown",
      "metadata": {
        "id": "view-in-github",
        "colab_type": "text"
      },
      "source": [
        "<a href=\"https://colab.research.google.com/github/xie186/mooc_learning/blob/master/book/modeling_count_data/book_modeling_count_data.ipynb\" target=\"_parent\"><img src=\"https://colab.research.google.com/assets/colab-badge.svg\" alt=\"Open In Colab\"/></a>"
      ]
    },
    {
      "cell_type": "code",
      "execution_count": null,
      "metadata": {
        "id": "a7Kpy8NXVaNR"
      },
      "outputs": [],
      "source": []
    },
    {
      "cell_type": "markdown",
      "source": [
        "# Book: Modeling data data by JOSEPH M. HILBE\n",
        "\n",
        "\n",
        "Github path: https://github.com/xie186/mooc_learning/blob/master/book/modeling_count_data/book_modeling_count_data.ipynb\n",
        "\n",
        "Book link: https://www.sea-stat.com/wp-content/uploads/2021/03/Joseph-M.-Hilbe-Modeling-Count-Data-2014-Cambridge-University-Press-libgen.lc_-1.pdf\n"
      ],
      "metadata": {
        "id": "ZOEw_DeUVecZ"
      }
    },
    {
      "cell_type": "markdown",
      "source": [
        "## Chapter 1: Varieties of Count Data\n",
        "\n",
        "\n",
        "### UNDERSTANDING A STATISTICAL COUNT MODEL"
      ],
      "metadata": {
        "id": "yeAjEca2Y773"
      }
    },
    {
      "cell_type": "markdown",
      "source": [
        "#### Basic Structure of a Linear Statistical Model"
      ],
      "metadata": {
        "id": "lZdlL2O2cnoc"
      }
    },
    {
      "cell_type": "code",
      "source": [
        "sbp <- c(131,132,122,119,123,115) # systolic blood pressure of subject\n",
        "male <- c(1,1,1,0,0,0)           # gender information\n",
        "smoker <- c(1,1,0,0,1,0)\n",
        "age <- c(34,36,30,32,26,23)\n",
        "summary(reg1 <- lm(sbp~ male+smoker+age))"
      ],
      "metadata": {
        "colab": {
          "base_uri": "https://localhost:8080/",
          "height": 374
        },
        "id": "HU3ZkVYWViFv",
        "outputId": "7cb60b2a-ffe5-4c57-d3f8-ff198579f42b"
      },
      "execution_count": 7,
      "outputs": [
        {
          "output_type": "display_data",
          "data": {
            "text/plain": [
              "\n",
              "Call:\n",
              "lm(formula = sbp ~ male + smoker + age)\n",
              "\n",
              "Residuals:\n",
              "       1        2        3        4        5        6 \n",
              " 0.04418  0.10457 -0.14875 -0.03976 -0.14875  0.18851 \n",
              "\n",
              "Coefficients:\n",
              "             Estimate Std. Error t value Pr(>|t|)    \n",
              "(Intercept) 104.00589    0.77516  134.17 5.55e-05 ***\n",
              "male          4.04860    0.25077   16.14 0.003815 ** \n",
              "smoker        6.92784    0.19467   35.59 0.000789 ***\n",
              "age           0.46981    0.02886   16.28 0.003752 ** \n",
              "---\n",
              "Signif. codes:  0 ‘***’ 0.001 ‘**’ 0.01 ‘*’ 0.05 ‘.’ 0.1 ‘ ’ 1\n",
              "\n",
              "Residual standard error: 0.2171 on 2 degrees of freedom\n",
              "Multiple R-squared:  0.9996,\tAdjusted R-squared:  0.9989 \n",
              "F-statistic:  1579 on 3 and 2 DF,  p-value: 0.000633\n"
            ]
          },
          "metadata": {}
        }
      ]
    },
    {
      "cell_type": "code",
      "source": [
        "reg1"
      ],
      "metadata": {
        "colab": {
          "base_uri": "https://localhost:8080/",
          "height": 142
        },
        "id": "VfrXBtdWb2Ei",
        "outputId": "ed160360-d8e8-44eb-87ae-ef8fec688bae"
      },
      "execution_count": 8,
      "outputs": [
        {
          "output_type": "display_data",
          "data": {
            "text/plain": [
              "\n",
              "Call:\n",
              "lm(formula = sbp ~ male + smoker + age)\n",
              "\n",
              "Coefficients:\n",
              "(Intercept)         male       smoker          age  \n",
              "   104.0059       4.0486       6.9278       0.4698  \n"
            ]
          },
          "metadata": {}
        }
      ]
    },
    {
      "cell_type": "markdown",
      "source": [
        "Predicted values may be obtained by:"
      ],
      "metadata": {
        "id": "PklU-TcBby1L"
      }
    },
    {
      "cell_type": "code",
      "source": [
        "mu <- predict(reg1)\n",
        "mu"
      ],
      "metadata": {
        "colab": {
          "base_uri": "https://localhost:8080/",
          "height": 34
        },
        "id": "dEzzqVD_bqVb",
        "outputId": "8ae27747-b235-478b-f6b6-6e1e1ca0654e"
      },
      "execution_count": 3,
      "outputs": [
        {
          "output_type": "display_data",
          "data": {
            "text/html": [
              "<style>\n",
              ".dl-inline {width: auto; margin:0; padding: 0}\n",
              ".dl-inline>dt, .dl-inline>dd {float: none; width: auto; display: inline-block}\n",
              ".dl-inline>dt::after {content: \":\\0020\"; padding-right: .5ex}\n",
              ".dl-inline>dt:not(:first-of-type) {padding-left: .5ex}\n",
              "</style><dl class=dl-inline><dt>1</dt><dd>130.955817378498</dd><dt>2</dt><dd>131.895434462445</dd><dt>3</dt><dd>122.148748159057</dd><dt>4</dt><dd>119.039764359352</dd><dt>5</dt><dd>123.148748159057</dd><dt>6</dt><dd>114.811487481591</dd></dl>\n"
            ],
            "text/markdown": "1\n:   130.9558173784982\n:   131.8954344624453\n:   122.1487481590574\n:   119.0397643593525\n:   123.1487481590576\n:   114.811487481591\n\n",
            "text/latex": "\\begin{description*}\n\\item[1] 130.955817378498\n\\item[2] 131.895434462445\n\\item[3] 122.148748159057\n\\item[4] 119.039764359352\n\\item[5] 123.148748159057\n\\item[6] 114.811487481591\n\\end{description*}\n",
            "text/plain": [
              "       1        2        3        4        5        6 \n",
              "130.9558 131.8954 122.1487 119.0398 123.1487 114.8115 "
            ]
          },
          "metadata": {}
        }
      ]
    },
    {
      "cell_type": "code",
      "source": [
        "sbp - mu"
      ],
      "metadata": {
        "colab": {
          "base_uri": "https://localhost:8080/",
          "height": 34
        },
        "id": "kQAPsSEJbx9d",
        "outputId": "4ce049eb-6175-498d-b683-34e2e4fea19f"
      },
      "execution_count": 9,
      "outputs": [
        {
          "output_type": "display_data",
          "data": {
            "text/html": [
              "<style>\n",
              ".dl-inline {width: auto; margin:0; padding: 0}\n",
              ".dl-inline>dt, .dl-inline>dd {float: none; width: auto; display: inline-block}\n",
              ".dl-inline>dt::after {content: \":\\0020\"; padding-right: .5ex}\n",
              ".dl-inline>dt:not(:first-of-type) {padding-left: .5ex}\n",
              "</style><dl class=dl-inline><dt>1</dt><dd>0.0441826215022161</dd><dt>2</dt><dd>0.104565537555231</dd><dt>3</dt><dd>-0.148748159057433</dd><dt>4</dt><dd>-0.0397643593519774</dd><dt>5</dt><dd>-0.148748159057433</dd><dt>6</dt><dd>0.188512518409439</dd></dl>\n"
            ],
            "text/markdown": "1\n:   0.04418262150221612\n:   0.1045655375552313\n:   -0.1487481590574334\n:   -0.03976435935197745\n:   -0.1487481590574336\n:   0.188512518409439\n\n",
            "text/latex": "\\begin{description*}\n\\item[1] 0.0441826215022161\n\\item[2] 0.104565537555231\n\\item[3] -0.148748159057433\n\\item[4] -0.0397643593519774\n\\item[5] -0.148748159057433\n\\item[6] 0.188512518409439\n\\end{description*}\n",
            "text/plain": [
              "          1           2           3           4           5           6 \n",
              " 0.04418262  0.10456554 -0.14874816 -0.03976436 -0.14874816  0.18851252 "
            ]
          },
          "metadata": {}
        }
      ]
    },
    {
      "cell_type": "markdown",
      "source": [
        "When the values of the linear predictor are close to the predicted or expected values, we call the model well fitted."
      ],
      "metadata": {
        "id": "DLu-L6P2cXA5"
      }
    },
    {
      "cell_type": "markdown",
      "source": [
        "#### Models and Probability\n"
      ],
      "metadata": {
        "id": "K5KLDZHQceeg"
      }
    },
    {
      "cell_type": "markdown",
      "source": [
        "#### Count Models\n",
        "\n",
        "\n",
        "Probability distribution function (PDF)\n",
        "\n"
      ],
      "metadata": {
        "id": "mfiTx7EJeEAr"
      }
    }
  ]
}